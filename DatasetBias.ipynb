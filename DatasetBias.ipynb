{
  "nbformat": 4,
  "nbformat_minor": 0,
  "metadata": {
    "colab": {
      "name": "DatasetBias.ipynb",
      "provenance": []
    },
    "kernelspec": {
      "name": "python3",
      "display_name": "Python 3"
    }
  },
  "cells": [
    {
      "cell_type": "code",
      "metadata": {
        "id": "M4Sdj4xF-koR",
        "colab_type": "code",
        "outputId": "90baa304-29cf-41a5-af54-111f076fbf1b",
        "colab": {
          "base_uri": "https://localhost:8080/",
          "height": 125
        }
      },
      "source": [
        "from google.colab import drive\n",
        "drive.mount('/content/drive')"
      ],
      "execution_count": 0,
      "outputs": [
        {
          "output_type": "stream",
          "text": [
            "Go to this URL in a browser: https://accounts.google.com/o/oauth2/auth?client_id=947318989803-6bn6qk8qdgf4n4g3pfee6491hc0brc4i.apps.googleusercontent.com&redirect_uri=urn%3aietf%3awg%3aoauth%3a2.0%3aoob&response_type=code&scope=email%20https%3a%2f%2fwww.googleapis.com%2fauth%2fdocs.test%20https%3a%2f%2fwww.googleapis.com%2fauth%2fdrive%20https%3a%2f%2fwww.googleapis.com%2fauth%2fdrive.photos.readonly%20https%3a%2f%2fwww.googleapis.com%2fauth%2fpeopleapi.readonly\n",
            "\n",
            "Enter your authorization code:\n",
            "··········\n",
            "Mounted at /content/drive\n"
          ],
          "name": "stdout"
        }
      ]
    },
    {
      "cell_type": "code",
      "metadata": {
        "id": "UIVDPFPO-zFo",
        "colab_type": "code",
        "outputId": "f0f849d0-882d-4675-e201-3d311fe45e83",
        "colab": {
          "base_uri": "https://localhost:8080/",
          "height": 87
        }
      },
      "source": [
        "!pip install wordcloud\n",
        "from wordcloud import WordCloud"
      ],
      "execution_count": 0,
      "outputs": [
        {
          "output_type": "stream",
          "text": [
            "Requirement already satisfied: wordcloud in /usr/local/lib/python3.6/dist-packages (1.5.0)\n",
            "Requirement already satisfied: pillow in /usr/local/lib/python3.6/dist-packages (from wordcloud) (4.3.0)\n",
            "Requirement already satisfied: numpy>=1.6.1 in /usr/local/lib/python3.6/dist-packages (from wordcloud) (1.17.4)\n",
            "Requirement already satisfied: olefile in /usr/local/lib/python3.6/dist-packages (from pillow->wordcloud) (0.46)\n"
          ],
          "name": "stdout"
        }
      ]
    },
    {
      "cell_type": "code",
      "metadata": {
        "id": "gsTaxL7dO9Ss",
        "colab_type": "code",
        "colab": {}
      },
      "source": [
        "import numpy as np\n",
        "import pandas as pd\n",
        "\n",
        "import matplotlib.pyplot as plt\n"
      ],
      "execution_count": 0,
      "outputs": []
    },
    {
      "cell_type": "code",
      "metadata": {
        "id": "CMxsWJopOyqR",
        "colab_type": "code",
        "colab": {}
      },
      "source": [
        "df = pd.read_csv('drive/My Drive/DatasetNlp/cleaned_tweets.csv')\n"
      ],
      "execution_count": 0,
      "outputs": []
    },
    {
      "cell_type": "code",
      "metadata": {
        "id": "4FvhOlduhErI",
        "colab_type": "code",
        "outputId": "248d2b8c-9a43-4250-e7d2-2a76b4fa77e3",
        "colab": {
          "base_uri": "https://localhost:8080/",
          "height": 34
        }
      },
      "source": [
        "df.shape"
      ],
      "execution_count": 0,
      "outputs": [
        {
          "output_type": "execute_result",
          "data": {
            "text/plain": [
              "(28992, 6)"
            ]
          },
          "metadata": {
            "tags": []
          },
          "execution_count": 10
        }
      ]
    },
    {
      "cell_type": "code",
      "metadata": {
        "id": "S5_7x_yNhao7",
        "colab_type": "code",
        "outputId": "a1c4d0e2-874b-422c-9fbf-89ce0e766120",
        "colab": {
          "base_uri": "https://localhost:8080/",
          "height": 105
        }
      },
      "source": [
        "df.Source.unique()"
      ],
      "execution_count": 0,
      "outputs": [
        {
          "output_type": "execute_result",
          "data": {
            "text/plain": [
              "array(['depressingmsgs', 'combined_tweets_gargi', 'dataset3_abhiraj',\n",
              "       'dataset2_abhiraj', 'cuttingquotes', nan, 'sentiment140',\n",
              "       'dataset1_abhiraj', 'manually_annotated', 'depressed1278',\n",
              "       'mhtodaymag', 'quotesdepress', 'saddpquotes', 'suicidalconcept',\n",
              "       'togethermw', 'waybeyondbroken'], dtype=object)"
            ]
          },
          "metadata": {
            "tags": []
          },
          "execution_count": 11
        }
      ]
    },
    {
      "cell_type": "code",
      "metadata": {
        "id": "ViwLBFE8hoaa",
        "colab_type": "code",
        "colab": {}
      },
      "source": [
        "df = df[df.Source.notna()]"
      ],
      "execution_count": 0,
      "outputs": []
    },
    {
      "cell_type": "code",
      "metadata": {
        "id": "Nx1SFBjFhBwB",
        "colab_type": "code",
        "colab": {}
      },
      "source": [
        "sources_to_keep = ['depressingmsgs', 'cuttingquotes', 'sentiment140', 'togethermw']\n",
        "sources_not_to_keep = ['dataset1_abhiraj', 'dataset2_abhiraj', 'dataset3_abhiraj']\n",
        "\n",
        "df = df[df.Cleaned != 'None']\n",
        "df = df[~df.Source.isin(sources_not_to_keep)]\n",
        "#df = df[df.Source!=sources_not_to_keep]\n",
        "\n",
        "df = df.sample(frac=1).reset_index(drop=True)"
      ],
      "execution_count": 0,
      "outputs": []
    },
    {
      "cell_type": "code",
      "metadata": {
        "id": "0XomSJVjjhh-",
        "colab_type": "code",
        "outputId": "5d44d734-f184-44c0-b299-e8b2cc25e58e",
        "colab": {
          "base_uri": "https://localhost:8080/",
          "height": 87
        }
      },
      "source": [
        "df.Source.unique()"
      ],
      "execution_count": 0,
      "outputs": [
        {
          "output_type": "execute_result",
          "data": {
            "text/plain": [
              "array(['depressingmsgs', 'mhtodaymag', 'combined_tweets_gargi',\n",
              "       'sentiment140', 'manually_annotated', 'togethermw',\n",
              "       'cuttingquotes', 'suicidalconcept', 'depressed1278',\n",
              "       'waybeyondbroken', 'saddpquotes', 'quotesdepress'], dtype=object)"
            ]
          },
          "metadata": {
            "tags": []
          },
          "execution_count": 33
        }
      ]
    },
    {
      "cell_type": "code",
      "metadata": {
        "id": "3smxOEP7O7G2",
        "colab_type": "code",
        "colab": {}
      },
      "source": [
        "df.dropna(inplace=True)"
      ],
      "execution_count": 0,
      "outputs": []
    },
    {
      "cell_type": "code",
      "metadata": {
        "id": "4FhI9S7kCuiB",
        "colab_type": "code",
        "colab": {}
      },
      "source": [
        "depressive_tweets = [df[df.Target == 1].Cleaned]\n",
        "depressive_words = ' '.join(list(map(str, depressive_tweets)))\n",
        "depressive_wc = WordCloud(width = 512,height = 512, collocations=False, colormap=\"Blues\").generate(depressive_words)"
      ],
      "execution_count": 0,
      "outputs": []
    },
    {
      "cell_type": "code",
      "metadata": {
        "id": "Rn3VoiaVPhvr",
        "colab_type": "code",
        "outputId": "fbb7c25b-b793-41bc-db86-e19e75ae7259",
        "colab": {
          "base_uri": "https://localhost:8080/",
          "height": 391
        }
      },
      "source": [
        "plt.figure(figsize = (8, 5), facecolor = 'black')\n",
        "plt.imshow(depressive_wc)\n",
        "plt.axis('off')\n",
        "plt.tight_layout(pad = 0)\n",
        "plt.show()"
      ],
      "execution_count": 0,
      "outputs": [
        {
          "output_type": "display_data",
          "data": {
            "image/png": "[encoded data removed]",
            "text/plain": [
              "<Figure size 576x360 with 1 Axes>"
            ]
          },
          "metadata": {
            "tags": []
          }
        }
      ]
    },
    {
      "cell_type": "code",
      "metadata": {
        "id": "9E3G2FV3QEO_",
        "colab_type": "code",
        "outputId": "c36b25cb-8baf-4320-d739-b41d1967c3af",
        "colab": {
          "base_uri": "https://localhost:8080/",
          "height": 703
        }
      },
      "source": [
        "depressive_wc.words_"
      ],
      "execution_count": 0,
      "outputs": [
        {
          "output_type": "execute_result",
          "data": {
            "text/plain": [
              "{'Cleaned': 0.3333333333333333,\n",
              " 'Drunk': 0.3333333333333333,\n",
              " 'Insomnia': 0.3333333333333333,\n",
              " 'JU': 0.3333333333333333,\n",
              " 'Length': 0.3333333333333333,\n",
              " 'Name': 0.3333333333333333,\n",
              " 'Numb': 0.3333333333333333,\n",
              " 'angry': 0.3333333333333333,\n",
              " 'anxiety': 0.6666666666666666,\n",
              " 'cry': 0.3333333333333333,\n",
              " 'depression': 0.6666666666666666,\n",
              " 'disappointed': 0.3333333333333333,\n",
              " 'dtype': 0.3333333333333333,\n",
              " 'fact': 0.3333333333333333,\n",
              " 'front': 0.3333333333333333,\n",
              " 'fucking': 0.6666666666666666,\n",
              " 'hate': 1.0,\n",
              " 'know': 0.3333333333333333,\n",
              " 'life': 0.3333333333333333,\n",
              " 'mNqg': 0.3333333333333333,\n",
              " 'mind': 0.3333333333333333,\n",
              " 'mo': 0.3333333333333333,\n",
              " 'movi': 0.3333333333333333,\n",
              " 'object': 0.3333333333333333,\n",
              " 'people': 0.3333333333333333,\n",
              " 'pic': 0.3333333333333333,\n",
              " 'read': 0.3333333333333333,\n",
              " 'realize': 0.3333333333333333,\n",
              " 'sit': 0.6666666666666666,\n",
              " 'sober': 0.3333333333333333,\n",
              " 'soooooo': 0.3333333333333333,\n",
              " 'sucks': 0.3333333333333333,\n",
              " 'thinking': 0.3333333333333333,\n",
              " 'thoughts': 0.3333333333333333,\n",
              " 'twitter': 0.3333333333333333,\n",
              " 'want': 0.3333333333333333,\n",
              " 'words': 0.3333333333333333,\n",
              " 'worst': 0.3333333333333333,\n",
              " 'yo': 0.3333333333333333}"
            ]
          },
          "metadata": {
            "tags": []
          },
          "execution_count": 39
        }
      ]
    },
    {
      "cell_type": "code",
      "metadata": {
        "id": "G8TyT49WgxrQ",
        "colab_type": "code",
        "colab": {}
      },
      "source": [
        "wordListWithKeyAndValue = sorted(depressive_wc.words_.items(), key=lambda x: x[1],reverse=True)[:10]"
      ],
      "execution_count": 0,
      "outputs": []
    },
    {
      "cell_type": "code",
      "metadata": {
        "id": "CGk_KOSuh0TP",
        "colab_type": "code",
        "colab": {}
      },
      "source": [
        "wordList = [i[0] for i in wordListWithKeyAndValue]"
      ],
      "execution_count": 0,
      "outputs": []
    },
    {
      "cell_type": "code",
      "metadata": {
        "id": "7W0iY84LnovP",
        "colab_type": "code",
        "outputId": "f10aa915-086a-49bc-dd2d-1c4dddc854b2",
        "colab": {
          "base_uri": "https://localhost:8080/",
          "height": 193
        }
      },
      "source": [
        "wordList"
      ],
      "execution_count": 0,
      "outputs": [
        {
          "output_type": "execute_result",
          "data": {
            "text/plain": [
              "['hate',\n",
              " 'sit',\n",
              " 'anxiety',\n",
              " 'depression',\n",
              " 'fucking',\n",
              " 'people',\n",
              " 'front',\n",
              " 'movi',\n",
              " 'soooooo',\n",
              " 'Drunk']"
            ]
          },
          "metadata": {
            "tags": []
          },
          "execution_count": 42
        }
      ]
    },
    {
      "cell_type": "code",
      "metadata": {
        "id": "2LOrFwe7in6W",
        "colab_type": "code",
        "colab": {}
      },
      "source": [
        "countOfFalsePositives = 0;\n",
        "countOfFalseNegatives = 0;\n",
        "for index,row in df.iterrows():\n",
        "  if any(ext in row['Cleaned'] for ext in wordList):\n",
        "    if row['Target'] == 0.0:\n",
        "      countOfFalsePositives+=1\n",
        "  else:\n",
        "    if row['Target'] == 1.0:\n",
        "      countOfFalseNegatives+=1"
      ],
      "execution_count": 0,
      "outputs": []
    },
    {
      "cell_type": "code",
      "metadata": {
        "id": "dqN48gdZkRDU",
        "colab_type": "code",
        "outputId": "e5a10bb8-b72c-4843-bf6b-247340f785be",
        "colab": {
          "base_uri": "https://localhost:8080/",
          "height": 70
        }
      },
      "source": [
        "df.columns"
      ],
      "execution_count": 0,
      "outputs": [
        {
          "output_type": "execute_result",
          "data": {
            "text/plain": [
              "Index(['Unnamed: 0', 'Tweet', 'Target', 'Source', 'Cleaned',\n",
              "       'Cleaned_stop_words'],\n",
              "      dtype='object')"
            ]
          },
          "metadata": {
            "tags": []
          },
          "execution_count": 44
        }
      ]
    },
    {
      "cell_type": "code",
      "metadata": {
        "id": "7Q3R3pFckYyx",
        "colab_type": "code",
        "colab": {}
      },
      "source": [
        "accuracy = (df.shape[0] - countOfFalseNegatives - countOfFalsePositives) / df.shape[0]"
      ],
      "execution_count": 0,
      "outputs": []
    },
    {
      "cell_type": "code",
      "metadata": {
        "id": "kpsm_ZO5qK81",
        "colab_type": "code",
        "outputId": "555cd4d9-c16a-4df8-e101-b3131bb5c004",
        "colab": {
          "base_uri": "https://localhost:8080/",
          "height": 34
        }
      },
      "source": [
        "accuracy"
      ],
      "execution_count": 0,
      "outputs": [
        {
          "output_type": "execute_result",
          "data": {
            "text/plain": [
              "0.648561523021714"
            ]
          },
          "metadata": {
            "tags": []
          },
          "execution_count": 46
        }
      ]
    },
    {
      "cell_type": "code",
      "metadata": {
        "id": "_GYeSjFnkPTL",
        "colab_type": "code",
        "colab": {}
      },
      "source": [
        ""
      ],
      "execution_count": 0,
      "outputs": []
    }
  ]
}