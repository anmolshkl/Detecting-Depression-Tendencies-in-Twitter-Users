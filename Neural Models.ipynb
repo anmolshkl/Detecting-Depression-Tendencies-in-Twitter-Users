{
 "cells": [
  {
   "cell_type": "code",
   "execution_count": 14,
   "metadata": {},
   "outputs": [],
   "source": [
    "# !pip install gensim\n",
    "# !pip install tweet-preprocessor\n",
    "# !pip install wordcloud\n",
    "\n",
    "from keras import backend as K\n",
    "from keras.layers import Bidirectional, GlobalMaxPool1D\n",
    "from keras.layers import Dense, Input, LSTM, Embedding, Conv1D, Dropout, Activation, MaxPooling1D, concatenate, multiply, Lambda, TimeDistributed, Flatten, RepeatVector, Permute\n",
    "from keras.layers import SpatialDropout1D\n",
    "from keras.layers.normalization import BatchNormalization\n",
    "from keras.models import Model, Sequential\n",
    "from keras.preprocessing.sequence import pad_sequences\n",
    "from keras.preprocessing.text import Tokenizer\n",
    "from sklearn.metrics import accuracy_score, classification_report\n",
    "from sklearn.model_selection import train_test_split\n",
    "\n",
    "import matplotlib.pyplot as plt\n",
    "import numpy as np\n",
    "import pandas as pd\n",
    "import tensorflow as tf"
   ]
  },
  {
   "cell_type": "markdown",
   "metadata": {},
   "source": [
    "## Load Data"
   ]
  },
  {
   "cell_type": "code",
   "execution_count": 2,
   "metadata": {},
   "outputs": [],
   "source": [
    "train = pd.read_csv('cleaned_tweets.csv', index_col=0)"
   ]
  },
  {
   "cell_type": "code",
   "execution_count": 3,
   "metadata": {},
   "outputs": [
    {
     "data": {
      "text/plain": [
       "Index(['Tweet', 'Target', 'Source', 'Cleaned', 'Cleaned_stop_words'], dtype='object')"
      ]
     },
     "execution_count": 3,
     "metadata": {},
     "output_type": "execute_result"
    }
   ],
   "source": [
    "train.columns"
   ]
  },
  {
   "cell_type": "code",
   "execution_count": 4,
   "metadata": {},
   "outputs": [
    {
     "name": "stdout",
     "output_type": "stream",
     "text": [
      "(28992, 5)\n",
      "(16441, 5)\n"
     ]
    },
    {
     "data": {
      "text/plain": [
       "0.0    11139\n",
       "1.0     5302\n",
       "Name: Target, dtype: int64"
      ]
     },
     "execution_count": 4,
     "metadata": {},
     "output_type": "execute_result"
    }
   ],
   "source": [
    "sources_not_to_keep = ['dataset2_abhiraj', 'dataset3_abhiraj', 'dataset1_abhiraj']\n",
    "\n",
    "print(train.shape)\n",
    "train = train[train.Cleaned != 'None']\n",
    "train = train[~train.Source.isin(sources_not_to_keep)]\n",
    "train.dropna(axis = 0, inplace = True)\n",
    "print(train.shape)\n",
    "\n",
    "train= train.sample(frac=1).reset_index(drop=True)\n",
    "\n",
    "train.Target.value_counts()"
   ]
  },
  {
   "cell_type": "code",
   "execution_count": 39,
   "metadata": {},
   "outputs": [],
   "source": [
    "X_train, X_test, y_train, y_test = train_test_split(train['Cleaned_stop_words'], train['Target'], test_size=0.20, random_state=42)"
   ]
  },
  {
   "cell_type": "code",
   "execution_count": 48,
   "metadata": {},
   "outputs": [],
   "source": [
    "### Create sequence\n",
    "vocabulary_size = 100000\n",
    "tokenizer = Tokenizer(num_words= vocabulary_size)\n",
    "tokenizer.fit_on_texts(train['Cleaned_stop_words'])\n",
    "train_sequences = tokenizer.texts_to_sequences(X_train)\n",
    "X_train_padded = pad_sequences(train_sequences, maxlen=140)\n",
    "\n",
    "test_sequences = tokenizer.texts_to_sequences(X_test)\n",
    "X_test_padded = pad_sequences(test_sequences, maxlen=140)"
   ]
  },
  {
   "cell_type": "code",
   "execution_count": 7,
   "metadata": {},
   "outputs": [],
   "source": [
    "embeddings_index = dict()\n",
    "f = open('glove.twitter.27B.100d.txt')\n",
    "for line in f:\n",
    "    values = line.split()\n",
    "    word = values[0]\n",
    "    coefs = np.asarray(values[1:], dtype='float32')\n",
    "    embeddings_index[word] = coefs\n",
    "f.close()"
   ]
  },
  {
   "cell_type": "code",
   "execution_count": 8,
   "metadata": {},
   "outputs": [],
   "source": [
    "embedding_matrix = np.zeros((vocabulary_size, 100))\n",
    "for word, index in tokenizer.word_index.items():\n",
    "    if index > vocabulary_size - 1:\n",
    "        break\n",
    "    else:\n",
    "        embedding_vector = embeddings_index.get(word)\n",
    "        if embedding_vector is not None:\n",
    "            embedding_matrix[index] = embedding_vector"
   ]
  },
  {
   "cell_type": "markdown",
   "metadata": {},
   "source": [
    "## CNN + LSTM"
   ]
  },
  {
   "cell_type": "code",
   "execution_count": 20,
   "metadata": {},
   "outputs": [
    {
     "name": "stdout",
     "output_type": "stream",
     "text": [
      "Train on 13152 samples, validate on 3289 samples\n",
      "Epoch 1/7\n",
      "13152/13152 [==============================] - 10s 783us/step - loss: 0.3704 - accuracy: 0.8276 - val_loss: 0.3175 - val_accuracy: 0.8559\n",
      "Epoch 2/7\n",
      "13152/13152 [==============================] - 10s 751us/step - loss: 0.3075 - accuracy: 0.8622 - val_loss: 0.3023 - val_accuracy: 0.8653\n",
      "Epoch 3/7\n",
      "13152/13152 [==============================] - 10s 746us/step - loss: 0.2785 - accuracy: 0.8734 - val_loss: 0.2891 - val_accuracy: 0.8720\n",
      "Epoch 4/7\n",
      "13152/13152 [==============================] - 10s 747us/step - loss: 0.2521 - accuracy: 0.8896 - val_loss: 0.2961 - val_accuracy: 0.8738\n",
      "Epoch 5/7\n",
      "13152/13152 [==============================] - 10s 751us/step - loss: 0.2244 - accuracy: 0.9018 - val_loss: 0.2942 - val_accuracy: 0.8723\n",
      "Epoch 6/7\n",
      "13152/13152 [==============================] - 10s 749us/step - loss: 0.1991 - accuracy: 0.9157 - val_loss: 0.3172 - val_accuracy: 0.8632\n",
      "Epoch 7/7\n",
      "13152/13152 [==============================] - 10s 754us/step - loss: 0.1767 - accuracy: 0.9238 - val_loss: 0.3186 - val_accuracy: 0.8699\n"
     ]
    }
   ],
   "source": [
    "## create model\n",
    "lstm_cnn = Sequential()\n",
    "lstm_cnn.add(Embedding(vocabulary_size, 100, input_length=140, weights=[embedding_matrix], trainable=False))\n",
    "lstm_cnn.add(Dropout(0.2))\n",
    "lstm_cnn.add(Conv1D(64, 5, activation='relu'))\n",
    "lstm_cnn.add(MaxPooling1D(pool_size=4))\n",
    "lstm_cnn.add(LSTM(100))\n",
    "lstm_cnn.add(Dense(1, activation='sigmoid'))\n",
    "lstm_cnn.compile(loss='binary_crossentropy', optimizer='adam', metrics=['accuracy'])\n",
    "## Fit train data\n",
    "hist = lstm_cnn.fit(X_train_padded, y_train, validation_data = (X_test_padded, y_test), epochs = 7)"
   ]
  },
  {
   "cell_type": "code",
   "execution_count": 51,
   "metadata": {},
   "outputs": [
    {
     "name": "stdout",
     "output_type": "stream",
     "text": [
      "3289/3289 [==============================] - 1s 204us/step\n",
      "              precision    recall  f1-score   support\n",
      "\n",
      "         0.0      0.925     0.877     0.901      2210\n",
      "         1.0      0.773     0.854     0.812      1079\n",
      "\n",
      "    accuracy                          0.870      3289\n",
      "   macro avg      0.849     0.866     0.856      3289\n",
      "weighted avg      0.875     0.870     0.871      3289\n",
      "\n"
     ]
    }
   ],
   "source": [
    "y_pred = lstm_cnn.predict(X_test_padded,verbose=1)\n",
    "preds  = np.round(y_pred.flatten())\n",
    "accuracy_score(y_test, preds)\n",
    "print(classification_report(y_test, preds, digits=3))"
   ]
  },
  {
   "cell_type": "code",
   "execution_count": 22,
   "metadata": {},
   "outputs": [
    {
     "data": {
      "image/png": "[encoded data removed]",
      "text/plain": [
       "<Figure size 432x288 with 1 Axes>"
      ]
     },
     "metadata": {
      "needs_background": "light"
     },
     "output_type": "display_data"
    }
   ],
   "source": [
    "plt.plot(hist.history['accuracy'])\n",
    "plt.plot(hist.history['val_accuracy'])\n",
    "plt.title('model accuracy')\n",
    "plt.ylabel('accuracy')\n",
    "plt.xlabel('epoch')\n",
    "plt.legend(['train', 'validation'], loc='upper left')\n",
    "plt.show()"
   ]
  },
  {
   "cell_type": "code",
   "execution_count": 23,
   "metadata": {},
   "outputs": [
    {
     "data": {
      "image/png": "[encoded data removed]",
      "text/plain": [
       "<Figure size 432x288 with 1 Axes>"
      ]
     },
     "metadata": {
      "needs_background": "light"
     },
     "output_type": "display_data"
    }
   ],
   "source": [
    "plt.plot(hist.history['loss'])\n",
    "plt.plot(hist.history['val_loss'])\n",
    "plt.title('model loss')\n",
    "plt.ylabel('loss')\n",
    "plt.xlabel('epoch')\n",
    "plt.legend(['train', 'test'], loc='upper left')\n",
    "plt.show()"
   ]
  },
  {
   "cell_type": "markdown",
   "metadata": {},
   "source": [
    "## BiLSTM + MaxPool layer"
   ]
  },
  {
   "cell_type": "code",
   "execution_count": 28,
   "metadata": {},
   "outputs": [],
   "source": [
    "inp = Input(shape=(140,))\n",
    "x = Embedding(vocabulary_size, 100, weights=[embedding_matrix])(inp)\n",
    "x = Bidirectional(LSTM(100, return_sequences=True, dropout=0.25, recurrent_dropout=0.1))(x)\n",
    "x = GlobalMaxPool1D()(x)\n",
    "x = Dense(100, activation=\"relu\")(x)\n",
    "x = Dropout(0.25)(x)\n",
    "x = Dense(1, activation=\"sigmoid\")(x)"
   ]
  },
  {
   "cell_type": "code",
   "execution_count": 29,
   "metadata": {},
   "outputs": [],
   "source": [
    "bilstm = Model(inputs=inp, outputs=x)\n",
    "bilstm.compile(loss='binary_crossentropy', optimizer='adam', metrics=['accuracy'])"
   ]
  },
  {
   "cell_type": "code",
   "execution_count": 30,
   "metadata": {},
   "outputs": [
    {
     "name": "stderr",
     "output_type": "stream",
     "text": [
      "/home/anmolshkl/anaconda3/lib/python3.7/site-packages/tensorflow_core/python/framework/indexed_slices.py:424: UserWarning: Converting sparse IndexedSlices to a dense Tensor of unknown shape. This may consume a large amount of memory.\n",
      "  \"Converting sparse IndexedSlices to a dense Tensor of unknown shape. \"\n"
     ]
    },
    {
     "name": "stdout",
     "output_type": "stream",
     "text": [
      "Train on 13152 samples, validate on 3289 samples\n",
      "Epoch 1/4\n",
      "13152/13152 [==============================] - 82s 6ms/step - loss: 0.3663 - accuracy: 0.8306 - val_loss: 0.3219 - val_accuracy: 0.8492\n",
      "Epoch 2/4\n",
      "13152/13152 [==============================] - 78s 6ms/step - loss: 0.2827 - accuracy: 0.8742 - val_loss: 0.2829 - val_accuracy: 0.8671\n",
      "Epoch 3/4\n",
      "13152/13152 [==============================] - 78s 6ms/step - loss: 0.2279 - accuracy: 0.9015 - val_loss: 0.2782 - val_accuracy: 0.8805\n",
      "Epoch 4/4\n",
      "13152/13152 [==============================] - 79s 6ms/step - loss: 0.1815 - accuracy: 0.9243 - val_loss: 0.3041 - val_accuracy: 0.8760\n"
     ]
    }
   ],
   "source": [
    "# model.fit(x_train, y_train, batch_size=16, epochs=10)\n",
    "hist = bilstm.fit(X_train_padded, y_train, validation_data = (X_test_padded, y_test), epochs = 4)"
   ]
  },
  {
   "cell_type": "code",
   "execution_count": 33,
   "metadata": {},
   "outputs": [
    {
     "name": "stdout",
     "output_type": "stream",
     "text": [
      "3289/3289 [==============================] - 2s 707us/step\n",
      "              precision    recall  f1-score   support\n",
      "\n",
      "         0.0      0.918     0.896     0.907      2210\n",
      "         1.0      0.797     0.835     0.815      1079\n",
      "\n",
      "    accuracy                          0.876      3289\n",
      "   macro avg      0.857     0.865     0.861      3289\n",
      "weighted avg      0.878     0.876     0.877      3289\n",
      "\n"
     ]
    }
   ],
   "source": [
    "y_pred = bilstm.predict(X_test_padded,verbose=1)\n",
    "preds  = np.round(y_pred.flatten())\n",
    "accuracy_score(y_test, preds)\n",
    "print(classification_report(y_test, preds, digits=3))"
   ]
  },
  {
   "cell_type": "code",
   "execution_count": 34,
   "metadata": {},
   "outputs": [
    {
     "data": {
      "image/png": "[encoded data removed]",
      "text/plain": [
       "<Figure size 432x288 with 1 Axes>"
      ]
     },
     "metadata": {
      "needs_background": "light"
     },
     "output_type": "display_data"
    }
   ],
   "source": [
    "plt.plot(hist.history['accuracy'])\n",
    "plt.plot(hist.history['val_accuracy'])\n",
    "plt.title('model accuracy')\n",
    "plt.ylabel('accuracy')\n",
    "plt.xlabel('epoch')\n",
    "plt.legend(['train', 'validation'], loc='upper left')\n",
    "plt.show()"
   ]
  },
  {
   "cell_type": "code",
   "execution_count": 35,
   "metadata": {},
   "outputs": [
    {
     "data": {
      "image/png": "[encoded data removed]",
      "text/plain": [
       "<Figure size 432x288 with 1 Axes>"
      ]
     },
     "metadata": {
      "needs_background": "light"
     },
     "output_type": "display_data"
    }
   ],
   "source": [
    "plt.plot(hist.history['loss'])\n",
    "plt.plot(hist.history['val_loss'])\n",
    "plt.title('model loss')\n",
    "plt.ylabel('loss')\n",
    "plt.xlabel('epoch')\n",
    "plt.legend(['train', 'test'], loc='upper left')\n",
    "plt.show()"
   ]
  },
  {
   "cell_type": "markdown",
   "metadata": {},
   "source": [
    "  ## BiLSTM with Attention"
   ]
  },
  {
   "cell_type": "code",
   "execution_count": 36,
   "metadata": {},
   "outputs": [],
   "source": [
    "lstm_units = 128\n",
    "\n",
    "in_text = Input(shape=(140, ))\n",
    "embedding_layer = Embedding(vocabulary_size,\n",
    "                        100,\n",
    "                        weights=[embedding_matrix],\n",
    "                        input_length=140,\n",
    "                        trainable=False)\n",
    "x = embedded_sequences = embedding_layer(in_text)\n",
    "bilstm = Bidirectional(LSTM(lstm_units,return_sequences=True, dropout=0.3, recurrent_dropout=0.25))(x)  \n",
    "attention = TimeDistributed(Dense(1,activation='tanh'))(bilstm)\n",
    "attention = Flatten()(attention)\n",
    "attention = Activation('softmax')(attention)\n",
    "attention = RepeatVector(2*lstm_units)(attention)\n",
    "attention = Permute([2, 1])(attention)\n",
    "sent_representation = multiply([bilstm, attention])\n",
    "out_text = Lambda(lambda xin: K.sum(xin, axis= 1), output_shape=(2*lstm_units,), name='sent')(sent_representation) \n",
    "\n",
    "output_ = Dense(1, activation='sigmoid')(out_text) \n",
    "\n",
    "bilstm_attn = Model(inputs=in_text, outputs= output_) \n",
    "bilstm_attn.compile(loss='binary_crossentropy', optimizer='adam', metrics=['accuracy'])"
   ]
  },
  {
   "cell_type": "code",
   "execution_count": 37,
   "metadata": {},
   "outputs": [
    {
     "name": "stdout",
     "output_type": "stream",
     "text": [
      "Train on 13152 samples, validate on 3289 samples\n",
      "Epoch 1/10\n",
      "13152/13152 [==============================] - 28s 2ms/step - loss: 0.4117 - accuracy: 0.8049 - val_loss: 0.3492 - val_accuracy: 0.8364\n",
      "Epoch 2/10\n",
      "13152/13152 [==============================] - 27s 2ms/step - loss: 0.3477 - accuracy: 0.8406 - val_loss: 0.3225 - val_accuracy: 0.8562\n",
      "Epoch 3/10\n",
      "13152/13152 [==============================] - 27s 2ms/step - loss: 0.3291 - accuracy: 0.8514 - val_loss: 0.3108 - val_accuracy: 0.8647\n",
      "Epoch 4/10\n",
      "13152/13152 [==============================] - 27s 2ms/step - loss: 0.3137 - accuracy: 0.8598 - val_loss: 0.3045 - val_accuracy: 0.8650\n",
      "Epoch 5/10\n",
      "13152/13152 [==============================] - 27s 2ms/step - loss: 0.3041 - accuracy: 0.8637 - val_loss: 0.2950 - val_accuracy: 0.8708\n",
      "Epoch 6/10\n",
      "13152/13152 [==============================] - 27s 2ms/step - loss: 0.2945 - accuracy: 0.8712 - val_loss: 0.2928 - val_accuracy: 0.8723\n",
      "Epoch 7/10\n",
      "13152/13152 [==============================] - 27s 2ms/step - loss: 0.2867 - accuracy: 0.8727 - val_loss: 0.2934 - val_accuracy: 0.8711\n",
      "Epoch 8/10\n",
      "13152/13152 [==============================] - 27s 2ms/step - loss: 0.2805 - accuracy: 0.8730 - val_loss: 0.2827 - val_accuracy: 0.8744\n",
      "Epoch 9/10\n",
      "13152/13152 [==============================] - 27s 2ms/step - loss: 0.2731 - accuracy: 0.8819 - val_loss: 0.2847 - val_accuracy: 0.8744\n",
      "Epoch 10/10\n",
      "13152/13152 [==============================] - 29s 2ms/step - loss: 0.2665 - accuracy: 0.8820 - val_loss: 0.2736 - val_accuracy: 0.8787\n"
     ]
    }
   ],
   "source": [
    "history = bilstm_attn.fit(X_train_padded, y_train, validation_data = (X_test_padded, y_test), epochs=10)"
   ]
  },
  {
   "cell_type": "code",
   "execution_count": 53,
   "metadata": {},
   "outputs": [
    {
     "name": "stdout",
     "output_type": "stream",
     "text": [
      "3289/3289 [==============================] - 2s 545us/step\n",
      "              precision    recall  f1-score   support\n",
      "\n",
      "         0.0      0.907     0.914     0.910      2210\n",
      "         1.0      0.820     0.807     0.814      1079\n",
      "\n",
      "    accuracy                          0.879      3289\n",
      "   macro avg      0.863     0.860     0.862      3289\n",
      "weighted avg      0.878     0.879     0.878      3289\n",
      "\n"
     ]
    }
   ],
   "source": [
    "y_pred = bilstm_attn.predict(X_test_padded,verbose=1)\n",
    "preds  = np.round(y_pred.flatten())\n",
    "accuracy_score(y_test, preds)\n",
    "print(classification_report(y_test, preds, digits=3))"
   ]
  },
  {
   "cell_type": "code",
   "execution_count": 73,
   "metadata": {},
   "outputs": [
    {
     "data": {
      "image/png": "[encoded data removed]",
      "text/plain": [
       "<Figure size 432x288 with 1 Axes>"
      ]
     },
     "metadata": {
      "needs_background": "light"
     },
     "output_type": "display_data"
    }
   ],
   "source": [
    "plt.plot(hist.history['accuracy'])\n",
    "plt.plot(hist.history['val_accuracy'])\n",
    "plt.title('model accuracy')\n",
    "plt.ylabel('accuracy')\n",
    "plt.xlabel('epoch')\n",
    "plt.legend(['train', 'validation'], loc='upper left')\n",
    "plt.show()"
   ]
  },
  {
   "cell_type": "code",
   "execution_count": 74,
   "metadata": {},
   "outputs": [
    {
     "data": {
      "image/png": "[encoded data removed]",
      "text/plain": [
       "<Figure size 432x288 with 1 Axes>"
      ]
     },
     "metadata": {
      "needs_background": "light"
     },
     "output_type": "display_data"
    }
   ],
   "source": [
    "plt.plot(hist.history['loss'])\n",
    "plt.plot(hist.history['val_loss'])\n",
    "plt.title('model loss')\n",
    "plt.ylabel('loss')\n",
    "plt.xlabel('epoch')\n",
    "plt.legend(['train', 'test'], loc='upper left')\n",
    "plt.show()"
   ]
  },
  {
   "cell_type": "markdown",
   "metadata": {},
   "source": [
    "## Finding the mismatch between simple LSTM and BiLSTM with Attention"
   ]
  },
  {
   "cell_type": "code",
   "execution_count": 50,
   "metadata": {},
   "outputs": [
    {
     "data": {
      "text/plain": [
       "array([   6,    7,   22,   31,   47,   54,   59,   69,   81,   86,   94,\n",
       "        121,  123,  132,  133,  135,  159,  170,  176,  189,  196,  219,\n",
       "        230,  235,  241,  246,  249,  256,  277,  300,  303,  307,  311,\n",
       "        316,  325,  332,  347,  350,  360,  361,  367,  377,  379,  382,\n",
       "        394,  395,  413,  426,  427,  444,  456,  486,  492,  493,  495,\n",
       "        510,  512,  523,  527,  530,  539,  546,  549,  553,  573,  595,\n",
       "        606,  619,  633,  643,  646,  648,  655,  662,  665,  668,  670,\n",
       "        675,  694,  695,  698,  707,  713,  727,  730,  742,  767,  769,\n",
       "        777,  804,  805,  827,  853,  857,  865,  869,  870,  874,  887,\n",
       "        901,  903,  911,  913,  917,  928,  950,  951,  953,  957,  970,\n",
       "        976,  986,  993,  994, 1002, 1008, 1012, 1024, 1032, 1046, 1048,\n",
       "       1057, 1061, 1063, 1066, 1070, 1076, 1094, 1102, 1108, 1109, 1119,\n",
       "       1124, 1131, 1132, 1136, 1137, 1146, 1158, 1169, 1172, 1179, 1180,\n",
       "       1190, 1207, 1214, 1216, 1229, 1237, 1255, 1258, 1279, 1290, 1302,\n",
       "       1303, 1307, 1312, 1315, 1318, 1323, 1336, 1349, 1355, 1373, 1375,\n",
       "       1377, 1384, 1392, 1394, 1412, 1413, 1418, 1420, 1428, 1441, 1442,\n",
       "       1450, 1464, 1468, 1469, 1476, 1480, 1493, 1495, 1497, 1498, 1537,\n",
       "       1540, 1542, 1544, 1546, 1572, 1575, 1589, 1595, 1598, 1610, 1614,\n",
       "       1625, 1639, 1641, 1660, 1669, 1685, 1693, 1694, 1705, 1713, 1719,\n",
       "       1726, 1744, 1748, 1760, 1764, 1779, 1787, 1792, 1794, 1804, 1809,\n",
       "       1815, 1830, 1832, 1833, 1836, 1862, 1872, 1873, 1878, 1883, 1895,\n",
       "       1901, 1913, 1926, 1934, 1936, 1944, 1951, 1952, 1970, 1971, 1973,\n",
       "       1975, 1981, 1986, 1988, 1996, 2007, 2027, 2029, 2038, 2057, 2058,\n",
       "       2059, 2062, 2063, 2065, 2069, 2100, 2103, 2104, 2111, 2114, 2119,\n",
       "       2122, 2153, 2155, 2157, 2174, 2199, 2205, 2212, 2219, 2243, 2252,\n",
       "       2256, 2262, 2268, 2273, 2281, 2286, 2290, 2318, 2323, 2326, 2328,\n",
       "       2330, 2339, 2343, 2355, 2359, 2360, 2366, 2367, 2370, 2375, 2376,\n",
       "       2378, 2381, 2382, 2387, 2391, 2405, 2437, 2451, 2465, 2471, 2474,\n",
       "       2492, 2496, 2504, 2516, 2522, 2527, 2529, 2570, 2577, 2599, 2612,\n",
       "       2617, 2623, 2627, 2639, 2644, 2658, 2686, 2703, 2718, 2736, 2737,\n",
       "       2741, 2748, 2750, 2771, 2779, 2794, 2816, 2829, 2830, 2843, 2847,\n",
       "       2848, 2850, 2851, 2862, 2875, 2884, 2885, 2891, 2893, 2901, 2908,\n",
       "       2911, 2914, 2930, 2931, 2935, 2941, 2944, 2947, 2957, 2961, 2965,\n",
       "       2968, 2970, 2974, 2999, 3009, 3012, 3026, 3032, 3039, 3041, 3063,\n",
       "       3065, 3070, 3071, 3072, 3076, 3086, 3100, 3109, 3110, 3114, 3118,\n",
       "       3123, 3138, 3156, 3167, 3173, 3181, 3192, 3193, 3207, 3221, 3226,\n",
       "       3262, 3285, 3288])"
      ]
     },
     "execution_count": 50,
     "metadata": {},
     "output_type": "execute_result"
    }
   ],
   "source": [
    "np.flatnonzero(y_test != preds)"
   ]
  },
  {
   "cell_type": "code",
   "execution_count": 52,
   "metadata": {},
   "outputs": [],
   "source": [
    "lstm_incorrect = np.flatnonzero(y_test != preds)"
   ]
  },
  {
   "cell_type": "code",
   "execution_count": 54,
   "metadata": {},
   "outputs": [],
   "source": [
    "attn_incorrect = np.flatnonzero(y_test != preds)"
   ]
  },
  {
   "cell_type": "code",
   "execution_count": 57,
   "metadata": {},
   "outputs": [],
   "source": [
    "index = np.setdiff1d(lstm_incorrect, attn_incorrect)"
   ]
  },
  {
   "cell_type": "markdown",
   "metadata": {},
   "source": [
    "### Examples that BiLSTM + attention got right but LSTM + CNN got wrong\n",
    "\n",
    "Please see the report for detailed analysis."
   ]
  },
  {
   "cell_type": "code",
   "execution_count": 69,
   "metadata": {},
   "outputs": [
    {
     "data": {
      "text/plain": [
       "0                            My GrandMa making Dinenr Mum\n",
       "5       Go four Dos four Don ts take long way depressi...\n",
       "8       would someone write movie like The Fault Our S...\n",
       "15                                            another one\n",
       "73      saw two really cute weenie dogs walking togeth...\n",
       "93      No job No car No money No worth That kinda I r...\n",
       "102     You Already Whole Some Thoughts How We Talk Ab...\n",
       "108     sadly deep thought But I think It farely diffi...\n",
       "136     Re problems continue perplex us Say There silv...\n",
       "141                                         For suffering\n",
       "147     You hold every moment calm raging seas walk fi...\n",
       "152     I got cuddles besitos I wanted yet ass still s...\n",
       "164                           If unfamiliar ACT take look\n",
       "236     Why leave Park Bom alone Instead reporting imp...\n",
       "301              laying bed 2 sleep blast one I love 2day\n",
       "323                Are stuck cycle We exist help break RT\n",
       "330     One common misunderstandings depression simila...\n",
       "353     Even Great Depression could stop people pickin...\n",
       "387                        Decieded To Straighten My Hair\n",
       "396                               How Overcome Depression\n",
       "403     Yep seemed like manic stage manic depression n...\n",
       "411     true love TOP honestly treated far kinder actu...\n",
       "417     The lack understanding small significant part ...\n",
       "463     Post concert depression thing thing I experien...\n",
       "464     barely goin 2 sleep count sheep cats jumping f...\n",
       "502                              A woman always A woman n\n",
       "508     Depression affects many older adults receiving...\n",
       "526     As someone dealt depression decades little rig...\n",
       "537     lmao weather mad indecisive tho alllll depress...\n",
       "559                                 I woke said I get cat\n",
       "                              ...                        \n",
       "2534                                     Hmm I mood 4 tea\n",
       "2635    nickki That like cure depression look toto Mon...\n",
       "2640    Bless O friends I burst bubble replaced n nEcs...\n",
       "2654                             Just one puff could ease\n",
       "2656    A friend called distressed A colleague uni kil...\n",
       "2674    Be happy Be want If others dont like let Happi...\n",
       "2701                     brains tiring dreams Maybe vivid\n",
       "2702                                         It loud head\n",
       "2705                        Post natal depression crushed\n",
       "2743              If I could I would stay bed next Monday\n",
       "2755                               So mood Christmas shit\n",
       "2792          Time wake everyone ready another hectic day\n",
       "2808    How To Change The Past By Changing Your Thinki...\n",
       "2853     Have ever supported someone The Act currently un\n",
       "2861                 In city full people yet I feel alone\n",
       "2889    I saying lie I would really like see evidence ...\n",
       "2900    feel ever painful And stigma prevents honesty ...\n",
       "2920    It people homophobic people understand like ch...\n",
       "2989                       I could prolly ball eyes right\n",
       "3005    cold led interesting discovery today Why least...\n",
       "3024    I happy I found followed Elizabeth tweets like...\n",
       "3025                            depression suddenly cured\n",
       "3084    depression message illness Lets know must chan...\n",
       "3106                                        ur damn right\n",
       "3177    Reflecting past brings depression Reflecting f...\n",
       "3236    good evening I interesting life defining day H...\n",
       "3237    Therapy screwed holidays left feeling sorts wo...\n",
       "3258    Good morning world I study lot today tweet muc...\n",
       "3260    Depression drug choice I get experience lows w...\n",
       "3274        I back gon na try stay active I It hard right\n",
       "Name: Cleaned_stop_words, Length: 154, dtype: object"
      ]
     },
     "execution_count": 69,
     "metadata": {},
     "output_type": "execute_result"
    }
   ],
   "source": [
    "X_test.reset_index(drop=True)[index]"
   ]
  },
  {
   "cell_type": "markdown",
   "metadata": {},
   "source": [
    "### Examples where both LSTM+CNN and BiLSTM + Attention got wrong"
   ]
  },
  {
   "cell_type": "code",
   "execution_count": 71,
   "metadata": {},
   "outputs": [],
   "source": [
    "same_index = np.intersect1d(lstm_incorrect, attn_incorrect)"
   ]
  },
  {
   "cell_type": "code",
   "execution_count": 72,
   "metadata": {},
   "outputs": [
    {
     "data": {
      "text/plain": [
       "6       ppl parents immature enough understand depress...\n",
       "7       Love gon na watch 24 7 social life newt depres...\n",
       "31                        I pretty sure called depression\n",
       "47      deserve nobel peace prize punching bitch face ...\n",
       "69                                           Please alone\n",
       "81                                   Why today everywhere\n",
       "86      I watch lunch anymore I laughing way much acce...\n",
       "94      She definitely showed signs alcoholism potenti...\n",
       "121               feeling unwanted terrible Mother Teresa\n",
       "123     When students choose college academically chal...\n",
       "132                 Depression A Struggle Made Easier CBD\n",
       "135       Third Eye Blind long drive home Oh I get enough\n",
       "159                                                  None\n",
       "189                        Go harder everyone else enough\n",
       "196                                                  None\n",
       "219     depression basically nonexistent days clear fi...\n",
       "230     My 2c fellow redditors high functioning depres...\n",
       "241     Where I thought I would tonight I I mind Chris...\n",
       "246                        If I stay got feeling type way\n",
       "249     I gon na center attention His cousin I want ur...\n",
       "256     stop fucking idiot learn deal w anxiety depres...\n",
       "300         tweets exist profile cuz dont think one finds\n",
       "307           Sometimes need revisit old places pain heal\n",
       "316       It bugs people concern much people CHOOSE money\n",
       "332     Proud growth I dealing bullshit gon na push ba...\n",
       "347                          Depression cured though next\n",
       "350                                                  None\n",
       "360     Bass16 Depression also sickness Not us enjoy g...\n",
       "361             mulligrubs A state depression low spirits\n",
       "367                        Hey family I depression dinner\n",
       "                              ...                        \n",
       "2914    Idk gone depression I feel lot emotional pain ...\n",
       "2935    I stuck situation Wan na get rid ways closed T...\n",
       "2941                          Okay I smiling Bipolar much\n",
       "2957    lala I thought saying ironic link named inflam...\n",
       "2961    Hope everyone good New Years tonight coz mines...\n",
       "2965             You never ALONE We deeply interconnected\n",
       "2970    It crazy much better feel much achieve get dep...\n",
       "2974    I made two loafs bread ate half one lunch enou...\n",
       "3009    Guy I know dated crazy ass mom good guy though...\n",
       "3012           ok im running steam god im feeling morning\n",
       "3026    Do ever get excited trying sleep even close ey...\n",
       "3032    Just stop Stop doingg things might regret end ...\n",
       "3039    korea stop making mental health depression jok...\n",
       "3065    After years appetite depression I gained weigh...\n",
       "3070              hate tan lines refuse tan salon anymore\n",
       "3071    No Matter Who We Are And What We Do We All Des...\n",
       "3072    What If Everything You Know About Depression W...\n",
       "3076                           Do think really affect Yes\n",
       "3086              Biggest regret till Ageing beyond teens\n",
       "3110                                    Tooth aches worst\n",
       "3114                     Dominoes always cures depression\n",
       "3118    people need understand serious depression sile...\n",
       "3138    As start end day thankful every little thing l...\n",
       "3156    The incredible Dr David Feifel I Wouldn alive ...\n",
       "3167    Roses red Violets blue Sugar sweet And But ros...\n",
       "3173    youre weak depression anxiety go therapist par...\n",
       "3181     crakkmeup Gosh You mOst amazing tweets I love xx\n",
       "3207                       I need get little funk I write\n",
       "3262    May 2016 The first month eight nine I fully de...\n",
       "3288    Miller fountain literally wash away depression...\n",
       "Name: Cleaned_stop_words, Length: 274, dtype: object"
      ]
     },
     "execution_count": 72,
     "metadata": {},
     "output_type": "execute_result"
    }
   ],
   "source": [
    "X_test.reset_index(drop=True)[same_index]"
   ]
  },
  {
   "cell_type": "code",
   "execution_count": null,
   "metadata": {},
   "outputs": [],
   "source": []
  }
 ],
 "metadata": {
  "kernelspec": {
   "display_name": "Python 3",
   "language": "python",
   "name": "python3"
  },
  "language_info": {
   "codemirror_mode": {
    "name": "ipython",
    "version": 3
   },
   "file_extension": ".py",
   "mimetype": "text/x-python",
   "name": "python",
   "nbconvert_exporter": "python",
   "pygments_lexer": "ipython3",
   "version": "3.7.3"
  }
 },
 "nbformat": 4,
 "nbformat_minor": 2
}
