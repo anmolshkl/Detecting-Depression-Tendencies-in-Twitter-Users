{
  "nbformat": 4,
  "nbformat_minor": 0,
  "metadata": {
    "colab": {
      "name": "BaselineNLP.ipynb",
      "provenance": []
    },
    "kernelspec": {
      "name": "python3",
      "display_name": "Python 3"
    }
  },
  "cells": [
    {
      "cell_type": "code",
      "metadata": {
        "id": "Hgga9lEOPscg",
        "colab_type": "code",
        "outputId": "7e5ff46a-e6fe-4155-ec85-22977af8daf6",
        "colab": {
          "base_uri": "https://localhost:8080/",
          "height": 34
        }
      },
      "source": [
        "from google.colab import drive\n",
        "drive.mount('/content/drive')"
      ],
      "execution_count": 0,
      "outputs": [
        {
          "output_type": "stream",
          "text": [
            "Drive already mounted at /content/drive; to attempt to forcibly remount, call drive.mount(\"/content/drive\", force_remount=True).\n"
          ],
          "name": "stdout"
        }
      ]
    },
    {
      "cell_type": "markdown",
      "metadata": {
        "id": "xBcxvvpxs5GX",
        "colab_type": "text"
      },
      "source": [
        "Our Baseline model is Logistic Regression. The word representation is computed from Count Vectorizer and Tfidf. The better of the two is used as our baseline model. "
      ]
    },
    {
      "cell_type": "code",
      "metadata": {
        "id": "jEk7P9hSP1uN",
        "colab_type": "code",
        "colab": {}
      },
      "source": [
        "# Models Used\n",
        "from sklearn.linear_model import LogisticRegression, LogisticRegressionCV\n",
        "\n",
        "# Metrics and Accuracy\n",
        "from sklearn.model_selection import GridSearchCV, cross_val_score, cross_val_predict\n",
        "from sklearn.metrics import accuracy_score\n",
        "from sklearn.metrics import classification_report\n",
        "\n",
        "# Train-test split\n",
        "from sklearn.model_selection import train_test_split\n",
        "\n",
        "# Feature-Extraction from text.\n",
        "from sklearn.feature_extraction.text import TfidfVectorizer\n",
        "from sklearn.feature_extraction.text import CountVectorizer\n",
        "\n",
        "# Basics\n",
        "import pandas as pd\n",
        "import numpy as np\n",
        "\n",
        "\n"
      ],
      "execution_count": 0,
      "outputs": []
    },
    {
      "cell_type": "code",
      "metadata": {
        "id": "pb-OGhVfUK19",
        "colab_type": "code",
        "colab": {}
      },
      "source": [
        "# Read the dataframe ( DataFrame1, DataFrame2, )\n",
        "# Commons Things to remove (Expand Contraction, char length > 10, Removing urls, hashtags, mentions emojis, image urls, punctutation)\n",
        "\n",
        "# DataFrame1 ( cleaned_tweets_1.csv ) (Stopping, Stemming)\n",
        "df = pd.read_csv('drive/My Drive/DatasetNlp/cleaned_tweets.csv')"
      ],
      "execution_count": 0,
      "outputs": []
    },
    {
      "cell_type": "code",
      "metadata": {
        "id": "DABGVst2uoRE",
        "colab_type": "code",
        "outputId": "c97442ca-7a03-44bf-f95c-dbcca6e0bcd7",
        "colab": {
          "base_uri": "https://localhost:8080/",
          "height": 34
        }
      },
      "source": [
        "df.shape     # 14704 -> Depressing, 19221 -> Total"
      ],
      "execution_count": 0,
      "outputs": [
        {
          "output_type": "execute_result",
          "data": {
            "text/plain": [
              "(28992, 6)"
            ]
          },
          "metadata": {
            "tags": []
          },
          "execution_count": 43
        }
      ]
    },
    {
      "cell_type": "code",
      "metadata": {
        "id": "9eS_vZtpuAzv",
        "colab_type": "code",
        "colab": {}
      },
      "source": [
        "sources_to_keep = ['depressingmsgs', 'cuttingquotes', 'sentiment140', 'togethermw']\n",
        "sources_not_to_keep = ['dataset1_abhiraj', 'dataset2_abhiraj', 'dataset3_abhiraj']\n",
        "\n",
        "df = df[df.Cleaned != 'None']\n",
        "df = df[~df.Source.isin(sources_not_to_keep)]\n",
        "#df = df[df.Source!=sources_not_to_keep]\n",
        "\n",
        "df = df.sample(frac=1).reset_index(drop=True)"
      ],
      "execution_count": 0,
      "outputs": []
    },
    {
      "cell_type": "code",
      "metadata": {
        "id": "8pP4o3R3uaQv",
        "colab_type": "code",
        "outputId": "9933b5c9-1cee-40d5-9075-3ce2becb282b",
        "colab": {
          "base_uri": "https://localhost:8080/",
          "height": 34
        }
      },
      "source": [
        "df.shape    # 1615 -> Depressing,   4010 -> Total"
      ],
      "execution_count": 0,
      "outputs": [
        {
          "output_type": "execute_result",
          "data": {
            "text/plain": [
              "(16442, 6)"
            ]
          },
          "metadata": {
            "tags": []
          },
          "execution_count": 45
        }
      ]
    },
    {
      "cell_type": "code",
      "metadata": {
        "id": "HJIq5jab06VX",
        "colab_type": "code",
        "colab": {}
      },
      "source": [
        "df.dropna(inplace=True)"
      ],
      "execution_count": 0,
      "outputs": []
    },
    {
      "cell_type": "code",
      "metadata": {
        "id": "TZf0i69TVb9e",
        "colab_type": "code",
        "outputId": "cd7e6725-260b-4bf7-871a-9a3bbc0dbf97",
        "colab": {
          "base_uri": "https://localhost:8080/",
          "height": 70
        }
      },
      "source": [
        "df.columns"
      ],
      "execution_count": 0,
      "outputs": [
        {
          "output_type": "execute_result",
          "data": {
            "text/plain": [
              "Index(['Unnamed: 0', 'Tweet', 'Target', 'Source', 'Cleaned',\n",
              "       'Cleaned_stop_words'],\n",
              "      dtype='object')"
            ]
          },
          "metadata": {
            "tags": []
          },
          "execution_count": 47
        }
      ]
    },
    {
      "cell_type": "code",
      "metadata": {
        "id": "Oo4_Cb4Xe9tA",
        "colab_type": "code",
        "colab": {}
      },
      "source": [
        "X_train, X_test, y_train, y_test = train_test_split(\n",
        "     df['Cleaned'], df['Target'], test_size=0.20, random_state=42)"
      ],
      "execution_count": 0,
      "outputs": []
    },
    {
      "cell_type": "code",
      "metadata": {
        "id": "-7PaC5BqUB5U",
        "colab_type": "code",
        "outputId": "99404887-7e05-43a8-da82-a501d462e630",
        "colab": {
          "base_uri": "https://localhost:8080/",
          "height": 72
        }
      },
      "source": [
        "lr = LogisticRegression(random_state=1)\n",
        "\n",
        "# Initalise the TfIdf vectoriser \n",
        "tvec = TfidfVectorizer()\n",
        "# Fit the training data on the model\n",
        "tvec.fit(X_train)\n",
        "\n",
        "# Transform training data into sparse matrix\n",
        "X_train_tvec = tvec.transform(X_train)\n",
        "# Transform training data into sparse matrix\n",
        "X_test_tvec = tvec.transform(X_test)\n",
        "\n",
        "# Cross val score/ predict\n",
        "tvec_score = cross_val_score(lr, X_train_tvec, y_train, cv=3)"
      ],
      "execution_count": 0,
      "outputs": [
        {
          "output_type": "stream",
          "text": [
            "/usr/local/lib/python3.6/dist-packages/sklearn/linear_model/logistic.py:432: FutureWarning: Default solver will be changed to 'lbfgs' in 0.22. Specify a solver to silence this warning.\n",
            "  FutureWarning)\n"
          ],
          "name": "stderr"
        }
      ]
    },
    {
      "cell_type": "code",
      "metadata": {
        "id": "t8qAZik5UFtH",
        "colab_type": "code",
        "outputId": "dd4b3e0a-71f3-4579-96f3-ea63f82047ab",
        "colab": {
          "base_uri": "https://localhost:8080/",
          "height": 72
        }
      },
      "source": [
        "\n",
        "# Initalise the Count vectoriser \n",
        "cvec = CountVectorizer()\n",
        "# Fit the training data on the model\n",
        "cvec.fit(X_train)\n",
        "\n",
        "# Transform training data into sparse matrix\n",
        "X_train_cvec = cvec.transform(X_train)\n",
        "\n",
        "# Transform test data into sparse matrix\n",
        "X_test_cvec = cvec.transform(X_test)\n",
        "\n",
        "# Cross val score/ predict\n",
        "cvec_score = cross_val_score(lr, X_train_cvec, y_train, cv=3 )\n"
      ],
      "execution_count": 0,
      "outputs": [
        {
          "output_type": "stream",
          "text": [
            "/usr/local/lib/python3.6/dist-packages/sklearn/linear_model/logistic.py:432: FutureWarning: Default solver will be changed to 'lbfgs' in 0.22. Specify a solver to silence this warning.\n",
            "  FutureWarning)\n"
          ],
          "name": "stderr"
        }
      ]
    },
    {
      "cell_type": "code",
      "metadata": {
        "id": "i8AdJ1Bpf295",
        "colab_type": "code",
        "outputId": "1b98a3f8-2890-434f-bcc4-e1a72e85c6ed",
        "colab": {
          "base_uri": "https://localhost:8080/",
          "height": 175
        }
      },
      "source": [
        "# Cvec stores the entire vocabulary of words. \n",
        "df_cvec = pd.DataFrame(X_train_cvec.todense(),columns=cvec.get_feature_names())\n",
        "print(df_cvec.shape)\n",
        "print(df_cvec.head())"
      ],
      "execution_count": 0,
      "outputs": [
        {
          "output_type": "stream",
          "text": [
            "(13152, 15066)\n",
            "   00  000  000ft  001  ...  zoo  zuba  zwinky  zzzzzzzzzzzzzzz\n",
            "0   0    0      0    0  ...    0     0       0                0\n",
            "1   0    0      0    0  ...    0     0       0                0\n",
            "2   0    0      0    0  ...    0     0       0                0\n",
            "3   0    0      0    0  ...    0     0       0                0\n",
            "4   0    0      0    0  ...    0     0       0                0\n",
            "\n",
            "[5 rows x 15066 columns]\n"
          ],
          "name": "stdout"
        }
      ]
    },
    {
      "cell_type": "code",
      "metadata": {
        "id": "3jGkLzKbf43p",
        "colab_type": "code",
        "outputId": "6ec9ff8e-b9ca-4323-fb0f-6d4a63174978",
        "colab": {
          "base_uri": "https://localhost:8080/",
          "height": 159
        }
      },
      "source": [
        "baseline = 0.3\n",
        "print('Baseline:', baseline)\n",
        "print('Tfidf Vectorizer Score:', tvec_score.mean())\n",
        "print('Count Vectorizer Score:', cvec_score.mean())\n",
        "acc_list = []\n",
        "acc_list.append(cvec_score.mean())\n",
        "acc_list.append(tvec_score.mean())\n",
        "\n",
        "# DataFrame Accuracy \n",
        "acc_df = pd.DataFrame()\n",
        "acc_df['params']= ['cvec', 'tvec']\n",
        "acc_df['scores']= acc_list\n",
        "acc_df"
      ],
      "execution_count": 0,
      "outputs": [
        {
          "output_type": "stream",
          "text": [
            "Baseline: 0.3\n",
            "Tfidf Vectorizer Score: 0.8506684355593478\n",
            "Count Vectorizer Score: 0.8534828579446675\n"
          ],
          "name": "stdout"
        },
        {
          "output_type": "execute_result",
          "data": {
            "text/html": [
              "<div>\n",
              "<style scoped>\n",
              "    .dataframe tbody tr th:only-of-type {\n",
              "        vertical-align: middle;\n",
              "    }\n",
              "\n",
              "    .dataframe tbody tr th {\n",
              "        vertical-align: top;\n",
              "    }\n",
              "\n",
              "    .dataframe thead th {\n",
              "        text-align: right;\n",
              "    }\n",
              "</style>\n",
              "<table border=\"1\" class=\"dataframe\">\n",
              "  <thead>\n",
              "    <tr style=\"text-align: right;\">\n",
              "      <th></th>\n",
              "      <th>params</th>\n",
              "      <th>scores</th>\n",
              "    </tr>\n",
              "  </thead>\n",
              "  <tbody>\n",
              "    <tr>\n",
              "      <th>0</th>\n",
              "      <td>cvec</td>\n",
              "      <td>0.853483</td>\n",
              "    </tr>\n",
              "    <tr>\n",
              "      <th>1</th>\n",
              "      <td>tvec</td>\n",
              "      <td>0.850668</td>\n",
              "    </tr>\n",
              "  </tbody>\n",
              "</table>\n",
              "</div>"
            ],
            "text/plain": [
              "  params    scores\n",
              "0   cvec  0.853483\n",
              "1   tvec  0.850668"
            ]
          },
          "metadata": {
            "tags": []
          },
          "execution_count": 52
        }
      ]
    },
    {
      "cell_type": "code",
      "metadata": {
        "id": "xsNu_aItjGjc",
        "colab_type": "code",
        "outputId": "bd9c4e7d-ff8e-4584-819a-26c0f6d4faa3",
        "colab": {
          "base_uri": "https://localhost:8080/",
          "height": 158
        }
      },
      "source": [
        "lr = LogisticRegression(random_state=1)\n",
        "model_l1 = LogisticRegressionCV(Cs=np.logspace(-10,10,21),penalty = 'l1',solver='liblinear',cv=3) \n",
        "model_l1.fit(X_train_tvec, y_train)"
      ],
      "execution_count": 0,
      "outputs": [
        {
          "output_type": "execute_result",
          "data": {
            "text/plain": [
              "LogisticRegressionCV(Cs=array([1.e-10, 1.e-09, 1.e-08, 1.e-07, 1.e-06, 1.e-05, 1.e-04, 1.e-03,\n",
              "       1.e-02, 1.e-01, 1.e+00, 1.e+01, 1.e+02, 1.e+03, 1.e+04, 1.e+05,\n",
              "       1.e+06, 1.e+07, 1.e+08, 1.e+09, 1.e+10]),\n",
              "                     class_weight=None, cv=3, dual=False, fit_intercept=True,\n",
              "                     intercept_scaling=1.0, l1_ratios=None, max_iter=100,\n",
              "                     multi_class='warn', n_jobs=None, penalty='l1',\n",
              "                     random_state=None, refit=True, scoring=None,\n",
              "                     solver='liblinear', tol=0.0001, verbose=0)"
            ]
          },
          "metadata": {
            "tags": []
          },
          "execution_count": 53
        }
      ]
    },
    {
      "cell_type": "code",
      "metadata": {
        "id": "8NV4uRGQjPWQ",
        "colab_type": "code",
        "colab": {}
      },
      "source": [
        "y_predict_tvec = model_l1.predict(X_test_tvec)"
      ],
      "execution_count": 0,
      "outputs": []
    },
    {
      "cell_type": "code",
      "metadata": {
        "id": "u2uSQ_dNjk1Q",
        "colab_type": "code",
        "outputId": "a3714df4-c6f9-4844-ae2f-d4351192952c",
        "colab": {
          "base_uri": "https://localhost:8080/",
          "height": 34
        }
      },
      "source": [
        "accuracy_score(y_predict_tvec, y_test)"
      ],
      "execution_count": 0,
      "outputs": [
        {
          "output_type": "execute_result",
          "data": {
            "text/plain": [
              "0.8422012769838857"
            ]
          },
          "metadata": {
            "tags": []
          },
          "execution_count": 55
        }
      ]
    },
    {
      "cell_type": "code",
      "metadata": {
        "id": "QigJizQOXf81",
        "colab_type": "code",
        "outputId": "1cb5263a-35d0-4549-9d30-0fcb18653d98",
        "colab": {
          "base_uri": "https://localhost:8080/",
          "height": 316
        }
      },
      "source": [
        "classification_report(y_test, y_predict_tvec,output_dict=True)"
      ],
      "execution_count": 0,
      "outputs": [
        {
          "output_type": "execute_result",
          "data": {
            "text/plain": [
              "{'0.0': {'f1-score': 0.884177638919884,\n",
              "  'precision': 0.8788819875776398,\n",
              "  'recall': 0.8895374943870678,\n",
              "  'support': 2227},\n",
              " '1.0': {'f1-score': 0.7525035765379113,\n",
              "  'precision': 0.7623188405797101,\n",
              "  'recall': 0.7429378531073446,\n",
              "  'support': 1062},\n",
              " 'accuracy': 0.8422012769838857,\n",
              " 'macro avg': {'f1-score': 0.8183406077288977,\n",
              "  'precision': 0.8206004140786749,\n",
              "  'recall': 0.8162376737472061,\n",
              "  'support': 3289},\n",
              " 'weighted avg': {'f1-score': 0.8416608088044523,\n",
              "  'precision': 0.8412443888814399,\n",
              "  'recall': 0.8422012769838857,\n",
              "  'support': 3289}}"
            ]
          },
          "metadata": {
            "tags": []
          },
          "execution_count": 56
        }
      ]
    },
    {
      "cell_type": "code",
      "metadata": {
        "id": "-gqX4Jbjkn4B",
        "colab_type": "code",
        "outputId": "c8cf2a54-781f-4723-b2e5-a33e544abed9",
        "colab": {
          "base_uri": "https://localhost:8080/",
          "height": 158
        }
      },
      "source": [
        "model_l1 = LogisticRegressionCV(Cs=np.logspace(-10,10,21),penalty = 'l1',solver='liblinear',cv=3) \n",
        "model_l1.fit(X_train_cvec, y_train)"
      ],
      "execution_count": 0,
      "outputs": [
        {
          "output_type": "execute_result",
          "data": {
            "text/plain": [
              "LogisticRegressionCV(Cs=array([1.e-10, 1.e-09, 1.e-08, 1.e-07, 1.e-06, 1.e-05, 1.e-04, 1.e-03,\n",
              "       1.e-02, 1.e-01, 1.e+00, 1.e+01, 1.e+02, 1.e+03, 1.e+04, 1.e+05,\n",
              "       1.e+06, 1.e+07, 1.e+08, 1.e+09, 1.e+10]),\n",
              "                     class_weight=None, cv=3, dual=False, fit_intercept=True,\n",
              "                     intercept_scaling=1.0, l1_ratios=None, max_iter=100,\n",
              "                     multi_class='warn', n_jobs=None, penalty='l1',\n",
              "                     random_state=None, refit=True, scoring=None,\n",
              "                     solver='liblinear', tol=0.0001, verbose=0)"
            ]
          },
          "metadata": {
            "tags": []
          },
          "execution_count": 57
        }
      ]
    },
    {
      "cell_type": "code",
      "metadata": {
        "id": "5ORDC5J0ksv3",
        "colab_type": "code",
        "outputId": "7e2a1f22-87b9-4fa0-e484-521b10933308",
        "colab": {
          "base_uri": "https://localhost:8080/",
          "height": 34
        }
      },
      "source": [
        "y_predict_cvec = model_l1.predict(X_test_cvec)\n",
        "accuracy_score(y_predict_cvec, y_test)"
      ],
      "execution_count": 0,
      "outputs": [
        {
          "output_type": "execute_result",
          "data": {
            "text/plain": [
              "0.8443295834600183"
            ]
          },
          "metadata": {
            "tags": []
          },
          "execution_count": 19
        }
      ]
    },
    {
      "cell_type": "code",
      "metadata": {
        "id": "tvb6TqdAYO8Z",
        "colab_type": "code",
        "outputId": "9b6d3ee2-f0d5-470d-c003-bc65d3c140f0",
        "colab": {
          "base_uri": "https://localhost:8080/",
          "height": 316
        }
      },
      "source": [
        "classification_report(y_test, y_predict_cvec,output_dict=True)"
      ],
      "execution_count": 0,
      "outputs": [
        {
          "output_type": "execute_result",
          "data": {
            "text/plain": [
              "{'0.0': {'f1-score': 0.8872743284896522,\n",
              "  'precision': 0.8629550321199143,\n",
              "  'recall': 0.9130040779338469,\n",
              "  'support': 2207},\n",
              " '1.0': {'f1-score': 0.7485265225933202,\n",
              "  'precision': 0.7987421383647799,\n",
              "  'recall': 0.7042513863216266,\n",
              "  'support': 1082},\n",
              " 'accuracy': 0.8443295834600183,\n",
              " 'macro avg': {'f1-score': 0.8179004255414861,\n",
              "  'precision': 0.8308485852423471,\n",
              "  'recall': 0.8086277321277368,\n",
              "  'support': 3289},\n",
              " 'weighted avg': {'f1-score': 0.841629717367782,\n",
              "  'precision': 0.8418305714804935,\n",
              "  'recall': 0.8443295834600183,\n",
              "  'support': 3289}}"
            ]
          },
          "metadata": {
            "tags": []
          },
          "execution_count": 20
        }
      ]
    },
    {
      "cell_type": "code",
      "metadata": {
        "id": "CdXsYYKNf_5H",
        "colab_type": "code",
        "outputId": "c03c5f6f-d62f-46da-81a2-603bcd667b11",
        "colab": {
          "base_uri": "https://localhost:8080/",
          "height": 158
        }
      },
      "source": [
        "tvec_ngram = TfidfVectorizer(ngram_range=(1,4)) \n",
        "tvec_ngram.fit(X_train)\n",
        "X_train_tvec_ngram = tvec_ngram.transform(X_train)\n",
        "\n",
        "# fit with l1 \n",
        "model_l1 = LogisticRegressionCV(Cs=np.logspace(-10,10,21),penalty = 'l1',solver='liblinear',cv=3) \n",
        "model_l1.fit(X_train_tvec_ngram, y_train)"
      ],
      "execution_count": 0,
      "outputs": [
        {
          "output_type": "execute_result",
          "data": {
            "text/plain": [
              "LogisticRegressionCV(Cs=array([1.e-10, 1.e-09, 1.e-08, 1.e-07, 1.e-06, 1.e-05, 1.e-04, 1.e-03,\n",
              "       1.e-02, 1.e-01, 1.e+00, 1.e+01, 1.e+02, 1.e+03, 1.e+04, 1.e+05,\n",
              "       1.e+06, 1.e+07, 1.e+08, 1.e+09, 1.e+10]),\n",
              "                     class_weight=None, cv=3, dual=False, fit_intercept=True,\n",
              "                     intercept_scaling=1.0, l1_ratios=None, max_iter=100,\n",
              "                     multi_class='warn', n_jobs=None, penalty='l1',\n",
              "                     random_state=None, refit=True, scoring=None,\n",
              "                     solver='liblinear', tol=0.0001, verbose=0)"
            ]
          },
          "metadata": {
            "tags": []
          },
          "execution_count": 21
        }
      ]
    },
    {
      "cell_type": "code",
      "metadata": {
        "id": "rEMWKjTV2SQz",
        "colab_type": "code",
        "colab": {}
      },
      "source": [
        "X_test_tvec_ngram = tvec_ngram.transform(X_test)"
      ],
      "execution_count": 0,
      "outputs": []
    },
    {
      "cell_type": "code",
      "metadata": {
        "id": "UtKxkhIGgtSQ",
        "colab_type": "code",
        "colab": {}
      },
      "source": [
        "y_pred_tvec_ngram = model_l1.predict(X_test_tvec_ngram)"
      ],
      "execution_count": 0,
      "outputs": []
    },
    {
      "cell_type": "code",
      "metadata": {
        "id": "z0eCPa9e2ijb",
        "colab_type": "code",
        "outputId": "95d889fd-fbb8-4794-d720-ec1b5b477f5d",
        "colab": {
          "base_uri": "https://localhost:8080/",
          "height": 34
        }
      },
      "source": [
        "accuracy_score(y_pred_tvec_ngram, y_test)"
      ],
      "execution_count": 0,
      "outputs": [
        {
          "output_type": "execute_result",
          "data": {
            "text/plain": [
              "0.8461538461538461"
            ]
          },
          "metadata": {
            "tags": []
          },
          "execution_count": 24
        }
      ]
    },
    {
      "cell_type": "code",
      "metadata": {
        "id": "7PX9HCX8XAKc",
        "colab_type": "code",
        "outputId": "fc9551e8-1f27-4d6c-9f1f-d61907506427",
        "colab": {
          "base_uri": "https://localhost:8080/",
          "height": 316
        }
      },
      "source": [
        "classification_report(y_test, y_pred_tvec_ngram, output_dict=True)"
      ],
      "execution_count": 0,
      "outputs": [
        {
          "output_type": "execute_result",
          "data": {
            "text/plain": [
              "{'0.0': {'f1-score': 0.8782483156881616,\n",
              "  'precision': 0.9363776295536173,\n",
              "  'recall': 0.8269143633892161,\n",
              "  'support': 2207},\n",
              " '1.0': {'f1-score': 0.7910817506193228,\n",
              "  'precision': 0.7149253731343284,\n",
              "  'recall': 0.8853974121996303,\n",
              "  'support': 1082},\n",
              " 'accuracy': 0.8461538461538461,\n",
              " 'macro avg': {'f1-score': 0.8346650331537422,\n",
              "  'precision': 0.8256515013439728,\n",
              "  'recall': 0.8561558877944232,\n",
              "  'support': 3289},\n",
              " 'weighted avg': {'f1-score': 0.8495726624791365,\n",
              "  'precision': 0.8635252910173842,\n",
              "  'recall': 0.8461538461538461,\n",
              "  'support': 3289}}"
            ]
          },
          "metadata": {
            "tags": []
          },
          "execution_count": 25
        }
      ]
    }
  ]
}